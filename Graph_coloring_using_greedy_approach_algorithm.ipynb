{
  "nbformat": 4,
  "nbformat_minor": 0,
  "metadata": {
    "colab": {
      "provenance": [],
      "authorship_tag": "ABX9TyPZjFeeBNtETNwWZm+jCS5J",
      "include_colab_link": true
    },
    "kernelspec": {
      "name": "python3",
      "display_name": "Python 3"
    },
    "language_info": {
      "name": "python"
    }
  },
  "cells": [
    {
      "cell_type": "markdown",
      "metadata": {
        "id": "view-in-github",
        "colab_type": "text"
      },
      "source": [
        "<a href=\"https://colab.research.google.com/github/d-hackmt/Advanced-Algorithm-Lab-Practicals-DYPIU/blob/main/Graph_coloring_using_greedy_approach_algorithm.ipynb\" target=\"_parent\"><img src=\"https://colab.research.google.com/assets/colab-badge.svg\" alt=\"Open In Colab\"/></a>"
      ]
    },
    {
      "cell_type": "markdown",
      "source": [
        "## Graph coloring using brute force algorithm"
      ],
      "metadata": {
        "id": "VAXOtrC70LPo"
      }
    },
    {
      "cell_type": "code",
      "source": [
        "def graphColor(graph, m, finalcolor):\n",
        "    finalcolor[0] = 'R'\n",
        "    \n",
        "    for i in range(1, len(graph)):\n",
        "        tempcolor = ['R', 'G', 'B']\n",
        "        for j in range(len(graph[i])):\n",
        "            if graph[i][j] == 1 and finalcolor[j] != '':\n",
        "                if tempcolor.count(finalcolor[j]) >= 1:\n",
        "                    tempcolor.remove(finalcolor[j])\n",
        "        print(\"temp color for node {}: {}\".format(i+1, tempcolor))\n",
        "        finalcolor[i] = tempcolor[0]\n",
        "    \n",
        "    print(\"Final color: {}\".format(finalcolor))\n",
        "    for i in range(len(finalcolor)):\n",
        "        print(\"Node {} is given color: {}\".format(i+1, finalcolor[i]))\n",
        "\n",
        "\n",
        "\n",
        "\n",
        "if __name__ == \"__main__\":\n",
        "  graph =[\n",
        "           [0,1,1,1],\n",
        "           [1,0,0,1],\n",
        "           [1,0,0,1],\n",
        "           [1,1,0,0]\n",
        "         ]\n",
        "\n",
        "  m = 3\n",
        "  finalcolor = [''] * len(graph)\n",
        "  graphColor(graph , m , finalcolor)"
      ],
      "metadata": {
        "colab": {
          "base_uri": "https://localhost:8080/"
        },
        "id": "dYWrHm92pVeS",
        "outputId": "53a98309-8e0c-450f-852d-58f86095939a"
      },
      "execution_count": null,
      "outputs": [
        {
          "output_type": "stream",
          "name": "stdout",
          "text": [
            "temp color for node 2: ['G', 'B']\n",
            "temp color for node 3: ['G', 'B']\n",
            "temp color for node 4: ['B']\n",
            "Final color: ['R', 'G', 'G', 'B']\n",
            "Node 1 is given color: R\n",
            "Node 2 is given color: G\n",
            "Node 3 is given color: G\n",
            "Node 4 is given color: B\n"
          ]
        }
      ]
    }
  ]
}