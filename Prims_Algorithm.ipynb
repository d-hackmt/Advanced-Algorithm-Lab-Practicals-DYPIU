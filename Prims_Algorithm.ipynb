{
  "nbformat": 4,
  "nbformat_minor": 0,
  "metadata": {
    "colab": {
      "provenance": [],
      "collapsed_sections": [
        "tH9RPG2vImit",
        "1fHrUeg5ImiC",
        "r-86sAE7IynY"
      ]
    },
    "kernelspec": {
      "name": "python3",
      "display_name": "Python 3"
    },
    "language_info": {
      "name": "python"
    }
  },
  "cells": [
    {
      "cell_type": "markdown",
      "source": [
        "## Prims Algorithm"
      ],
      "metadata": {
        "id": "_0a2rdYlj0rC"
      }
    },
    {
      "cell_type": "markdown",
      "source": [
        "#### Prim's algorithm is a greedy algorithm that finds the minimum spanning tree of a weighted, connected, and undirected graph. It starts with a single vertex and repeatedly adds the cheapest edge that connects an unvisited vertex to the tree. It stops when all vertices are visited or when all the vertices are in the tree."
      ],
      "metadata": {
        "id": "RzB-CF4rnBWJ"
      }
    },
    {
      "cell_type": "markdown",
      "source": [
        "##PYTHON CODE"
      ],
      "metadata": {
        "id": "1fHrUeg5ImiC"
      }
    },
    {
      "cell_type": "code",
      "source": [
        "from queue import PriorityQueue\n",
        "\n",
        "def prim(graph, start):\n",
        "    visited = set()  # keep track of visited vertices\n",
        "    min_spanning_tree = []  # keep track of edges in the min spanning tree\n",
        "    pq = PriorityQueue()  # create a priority queue to store vertices with minimum weight\n",
        "    \n",
        "    # add start node to the queue with priority 0\n",
        "    pq.put((0, start))\n",
        "\n",
        "    while not pq.empty():\n",
        "        # get the vertex with the minimum weight\n",
        "        weight, vertex = pq.get()\n",
        "        \n",
        "        if vertex not in visited:\n",
        "            visited.add(vertex)\n",
        "            \n",
        "            # add the edge to the min spanning tree\n",
        "            min_spanning_tree.append((weight, vertex))\n",
        "            \n",
        "            # explore the neighbors of the current vertex\n",
        "            for neighbor, neighbor_weight in graph[vertex]:\n",
        "                if neighbor not in visited:\n",
        "                    # add the neighbor to the priority queue with its weight as priority\n",
        "                    pq.put((neighbor_weight, neighbor))\n",
        "    \n",
        "    return min_spanning_tree\n",
        "\n",
        "\n",
        "# Define the graph as a dictionary of adjacency lists\n",
        "graph = {\n",
        "    'A': [('B', 2), ('C', 3)],\n",
        "    'B': [('A', 2), ('C', 4), ('D', 1)],\n",
        "    'C': [('A', 3), ('B', 4), ('D', 2)],\n",
        "    'D': [('B', 1), ('C', 2)]\n",
        "}\n",
        "\n",
        "# Run Prim's algorithm starting from vertex 'A'\n",
        "min_spanning_tree = prim(graph, 'A')\n",
        "\n",
        "# Print the minimum spanning tree\n",
        "print(min_spanning_tree)\n"
      ],
      "metadata": {
        "id": "kj4j5mHTI85Q",
        "colab": {
          "base_uri": "https://localhost:8080/"
        },
        "outputId": "9d7f1d29-e5ab-4c3e-ba65-e3fa88cd8480"
      },
      "execution_count": 4,
      "outputs": [
        {
          "output_type": "stream",
          "name": "stdout",
          "text": [
            "[(0, 'A'), (2, 'B'), (1, 'D'), (2, 'C')]\n"
          ]
        }
      ]
    },
    {
      "cell_type": "markdown",
      "source": [
        "The implementation of Prim's algorithm using a priority queue is straightforward. We start by creating an empty set visited to keep track of the vertices that have been added to the minimum spanning tree. We also create an empty list min_spanning_tree to store the edges in the minimum spanning tree. We use a PriorityQueue to store the vertices that are adjacent to the current tree and have not been visited yet.\n",
        "\n",
        "We add the start vertex to the priority queue with priority 0. Then, while the priority queue is not empty, we extract the vertex with the minimum weight from the queue. If the vertex has not been visited, we add it to the set of visited vertices and add the edge to the minimum spanning tree. Finally, we add all the neighboring vertices that have not been visited to the priority queue, with their weight as the priority."
      ],
      "metadata": {
        "id": "6Ihs1KNTmoeo"
      }
    },
    {
      "cell_type": "markdown",
      "source": [
        "## PSEUDO CODE"
      ],
      "metadata": {
        "id": "r-86sAE7IynY"
      }
    },
    {
      "cell_type": "code",
      "source": [
        "prim(graph, start):\n",
        "    visited = set() # keep track of visited vertices\n",
        "    min_spanning_tree = [] # keep track of edges in the min spanning tree\n",
        "    pq = PriorityQueue() # create a priority queue\n",
        "    \n",
        "    # add start node to the queue with priority 0\n",
        "    pq.put((0, start))\n",
        "\n",
        "    while not pq.empty():\n",
        "        # get the vertex with the minimum weight\n",
        "        weight, vertex = pq.get()\n",
        "        \n",
        "        if vertex not in visited:\n",
        "            visited.add(vertex)\n",
        "            \n",
        "            # add the edge to the min spanning tree\n",
        "            min_spanning_tree.append((weight, vertex))\n",
        "            \n",
        "            # explore the neighbors of the current vertex\n",
        "            for neighbor, neighbor_weight in graph[vertex]:\n",
        "                if neighbor not in visited:\n",
        "                    # add the neighbor to the priority queue with its weight as priority\n",
        "                    pq.put((neighbor_weight, neighbor))\n",
        "    \n",
        "    return min_spanning_tree\n"
      ],
      "metadata": {
        "id": "lBLFINf1l7UY"
      },
      "execution_count": null,
      "outputs": []
    }
  ]
}