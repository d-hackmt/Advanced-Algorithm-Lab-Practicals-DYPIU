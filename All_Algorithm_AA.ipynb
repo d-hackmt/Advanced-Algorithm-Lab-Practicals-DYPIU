{
  "cells": [
    {
      "cell_type": "markdown",
      "metadata": {
        "id": "view-in-github",
        "colab_type": "text"
      },
      "source": [
        "<a href=\"https://colab.research.google.com/github/d-hackmt/Advanced-Algorithm-Lab-Practicals-DYPIU/blob/main/All_Algorithm_AA.ipynb\" target=\"_parent\"><img src=\"https://colab.research.google.com/assets/colab-badge.svg\" alt=\"Open In Colab\"/></a>"
      ]
    },
    {
      "cell_type": "markdown",
      "id": "151638c0",
      "metadata": {
        "id": "151638c0"
      },
      "source": [
        "# Solve N Queens"
      ]
    },
    {
      "cell_type": "code",
      "execution_count": null,
      "id": "7539749b",
      "metadata": {
        "id": "7539749b",
        "outputId": "f2ab6a44-0412-4ef5-8cea-b6b2b9bd687b"
      },
      "outputs": [
        {
          "name": "stdout",
          "output_type": "stream",
          "text": [
            "[['.Q..', '...Q', 'Q...', '..Q.'], ['..Q.', 'Q...', '...Q', '.Q..']]\n"
          ]
        }
      ],
      "source": [
        "from typing import List\n",
        "def solveNQueens(n: int) -> List[List[str]]:\n",
        "    \"\"\"\n",
        "    Returns all distinct solutions to the N-Queens problem where n is the size of the board.\n",
        "\n",
        "    Args:\n",
        "    - n (int): The size of the board.\n",
        "\n",
        "    Returns:\n",
        "    - res (List[List[str]]): A list of all distinct solutions to the problem, where each solution is represented by a \n",
        "    list of strings, with each string representing a row of the board.\n",
        "    \"\"\"\n",
        "    cols = set()\n",
        "    posdig = set()\n",
        "    negdig = set()\n",
        "    \n",
        "    res = []\n",
        "    \n",
        "    board = [[\".\"]*n for i in range(n)]\n",
        "    \n",
        "    def backtrack(r: int) -> None:\n",
        "        \"\"\"\n",
        "        Recursive function to backtrack through the search tree and find all solutions to the N-Queens problem.\n",
        "        \n",
        "        Args:\n",
        "        - r (int): The current row being explored.\n",
        "        \"\"\"\n",
        "        if r == n:\n",
        "            copy = [\"\".join(row) for row in board]\n",
        "            res.append(copy)\n",
        "            return\n",
        "        \n",
        "        for c in range(n):\n",
        "            if c in cols or (r+c) in posdig or (r-c) in negdig:\n",
        "                continue\n",
        "            \n",
        "            cols.add(c)\n",
        "            posdig.add(r+c)\n",
        "            negdig.add(r-c)\n",
        "            board[r][c] = \"Q\"\n",
        "            \n",
        "            backtrack(r+1)\n",
        "            \n",
        "            cols.remove(c)\n",
        "            posdig.remove(r+c)\n",
        "            negdig.remove(r-c)\n",
        "            board[r][c] = \".\"\n",
        "    \n",
        "    backtrack(0)\n",
        "    return res\n",
        "\n",
        "print(solveNQueens(4))\n"
      ]
    },
    {
      "cell_type": "markdown",
      "id": "072d7858",
      "metadata": {
        "id": "072d7858"
      },
      "source": [
        "# Prim's Algorithm"
      ]
    },
    {
      "cell_type": "code",
      "execution_count": null,
      "id": "29315a82",
      "metadata": {
        "id": "29315a82",
        "outputId": "8817b21f-a519-4ec6-9889-31b3679ada52"
      },
      "outputs": [
        {
          "name": "stdout",
          "output_type": "stream",
          "text": [
            "Edge : Weights\n",
            "0 - 2 : 5\n",
            "2 - 3 : 1\n",
            "3 - 4 : 1\n",
            "4 - 1 : 2\n"
          ]
        }
      ],
      "source": [
        "# Prim's Algorithm in Python\n",
        "\n",
        "INF = 9999999\n",
        "\n",
        "# Number of vertices in graph\n",
        "N = 5\n",
        "\n",
        "# Creating graph by adjacency matrix method\n",
        "G = [\n",
        "    [0, 19, 5, 0, 0],\n",
        "    [19, 0, 5, 9, 2],\n",
        "    [5, 5, 0, 1, 6],\n",
        "    [0, 9, 1, 0, 1],\n",
        "    [0, 2, 6, 1, 0]\n",
        "]\n",
        "\n",
        "selected_node = [0, 0, 0, 0, 0]\n",
        "no_edge = 0\n",
        "\n",
        "# Select the first node\n",
        "selected_node[0] = True\n",
        "\n",
        "# Print edges and weights\n",
        "print(\"Edge : Weights\")\n",
        "while no_edge < N - 1:\n",
        "    minimum = INF\n",
        "    a = 0\n",
        "    b = 0\n",
        "    \n",
        "    # Find the minimum weight edge\n",
        "    for m in range(N):\n",
        "        if selected_node[m]:\n",
        "            for n in range(N):\n",
        "                if (not selected_node[n]) and G[m][n]:\n",
        "                    if minimum > G[m][n]:\n",
        "                        minimum = G[m][n]\n",
        "                        a = m\n",
        "                        b = n\n",
        "                        \n",
        "    # Print the edge and weight\n",
        "    print(a , \"-\", b , \":\" , G[a][b])\n",
        "    selected_node[b] = True\n",
        "    no_edge += 1\n"
      ]
    },
    {
      "cell_type": "markdown",
      "id": "d4cc0cbd",
      "metadata": {
        "id": "d4cc0cbd"
      },
      "source": [
        "# Travelling Salesman Problem"
      ]
    },
    {
      "cell_type": "code",
      "execution_count": null,
      "id": "004f8982",
      "metadata": {
        "id": "004f8982",
        "outputId": "cb8f7c0d-1cb5-410e-afe6-1abd1eb43fac"
      },
      "outputs": [
        {
          "name": "stdout",
          "output_type": "stream",
          "text": [
            "Minimum cost for the path = 80\n"
          ]
        }
      ],
      "source": [
        "# Importing required modules\n",
        "from itertools import permutations\n",
        "from sys import maxsize\n",
        "\n",
        "# Defining function to solve Travelling Salesman Problem\n",
        "def travellingSalesmanProblem(graph: list[list[int]], s: int) -> int:\n",
        "    \"\"\"\n",
        "    Returns the minimum cost for the path traversing all vertices exactly once.\n",
        "\n",
        "    :param graph: The graph representing the distances between the vertices.\n",
        "    :type graph: list[list[int]]\n",
        "    :param s: The source vertex.\n",
        "    :type s: int\n",
        "    :return: The minimum cost for the path.\n",
        "    :rtype: int\n",
        "    \"\"\"\n",
        "    # Creating a list of vertices\n",
        "    vertex = [i for i in range(len(graph)) if i != s]\n",
        "    min_path = maxsize\n",
        "\n",
        "    # Getting all possible permutations of the vertices\n",
        "    for perm in permutations(vertex):\n",
        "        current_path_weight = 0\n",
        "        k = s\n",
        "        \n",
        "        # Calculating the path weight for each permutation\n",
        "        for j in perm:\n",
        "            current_path_weight += graph[k][j]\n",
        "            k = j\n",
        "        current_path_weight += graph[k][s]\n",
        "        min_path = min(min_path, current_path_weight)\n",
        "    return min_path\n",
        "\n",
        "# Running the function with sample graph and source vertex\n",
        "if __name__ == \"__main__\":\n",
        "    graph = [[0, 10, 15, 20],\n",
        "             [10, 0, 35, 25],\n",
        "             [15, 35, 0, 30],\n",
        "             [20, 25, 30, 0]]\n",
        "    s = 0\n",
        "    print(\"Minimum cost for the path =\", travellingSalesmanProblem(graph, s))"
      ]
    },
    {
      "cell_type": "markdown",
      "id": "094e46de",
      "metadata": {
        "id": "094e46de"
      },
      "source": [
        "# Quick Sort"
      ]
    },
    {
      "cell_type": "code",
      "execution_count": null,
      "id": "27aa5f61",
      "metadata": {
        "id": "27aa5f61",
        "outputId": "a8deb4c3-4c8e-4d5f-907c-2bd897bd8bda"
      },
      "outputs": [
        {
          "name": "stdout",
          "output_type": "stream",
          "text": [
            "Enter numbers in array: 5 1 6 -1\n",
            "Unsorted Array:\n",
            "['5', '1', '6', '-1']\n",
            "Sorted Array in Ascending Order:\n",
            "[-1, 1, 5, 6]\n"
          ]
        }
      ],
      "source": [
        "def quicksort(arr, start, end):\n",
        "    \"\"\"\n",
        "    Sorts the given array recursively using quicksort algorithm.\n",
        "\n",
        "    :param arr: A list of numbers to be sorted.\n",
        "    :param start: The starting index of the sub-array to be sorted.\n",
        "    :param end: The ending index of the sub-array to be sorted.\n",
        "    \"\"\"\n",
        "    if start >= end:\n",
        "        return\n",
        "    if end - start > 1:\n",
        "        pivot = partition(arr, start, end)\n",
        "        quicksort(arr, start, pivot)  # Call for sorting left side of pivot\n",
        "        quicksort(arr, pivot + 1, end)  # Call for sorting right side of pivot element\n",
        "\n",
        "\n",
        "def partition(arr, start, end):\n",
        "    \"\"\"\n",
        "    Partitions the given array and returns the index of the pivot element.\n",
        "\n",
        "    :param arr: A list of numbers to be partitioned.\n",
        "    :param start: The starting index of the sub-array to be partitioned.\n",
        "    :param end: The ending index of the sub-array to be partitioned.\n",
        "    :return: The index of the pivot element.\n",
        "    \"\"\"\n",
        "    pivot = arr[start]\n",
        "    i = start + 1\n",
        "    j = end - 1\n",
        "    while True:\n",
        "        while (i <= j and arr[i] <= pivot):\n",
        "            i += 1\n",
        "        while (i <= j and arr[j] >= pivot):\n",
        "            j -= 1\n",
        "        if (i <= j):\n",
        "            arr[i], arr[j] = arr[j], arr[i]\n",
        "        else:\n",
        "            arr[start], arr[j] = arr[j], arr[start]\n",
        "            return j\n",
        "\n",
        "\n",
        "data = input(\"Enter numbers in array: \").split()\n",
        "print(\"Unsorted Array:\")\n",
        "print(data)\n",
        "data = [int(x) for x in data]\n",
        "quicksort(data, 0, len(data))\n",
        "print('Sorted Array in Ascending Order:')\n",
        "print(data)"
      ]
    },
    {
      "cell_type": "markdown",
      "id": "f64f0703",
      "metadata": {
        "id": "f64f0703"
      },
      "source": [
        "# Merge Sort"
      ]
    },
    {
      "cell_type": "code",
      "execution_count": null,
      "id": "c522f315",
      "metadata": {
        "id": "c522f315",
        "outputId": "8971f000-2fd6-4217-8ebb-2dfb6a66d1d7"
      },
      "outputs": [
        {
          "name": "stdout",
          "output_type": "stream",
          "text": [
            "Sorted array is:\n",
            "1 2 3 4 5 6 7 8 9 "
          ]
        }
      ],
      "source": [
        "def merge(arr, l, m, r):\n",
        "    \"\"\"\n",
        "    Merge two subarrays of arr[].\n",
        "    \"\"\"\n",
        "    n1 = m - l + 1\n",
        "    n2 = r - m\n",
        "\n",
        "    # create arrays\n",
        "    L = [0] * (n1)\n",
        "    R = [0] * (n2)\n",
        "\n",
        "    # Copy data to arrays\n",
        "    for i in range(0 , n1):\n",
        "        L[i] = arr[l + i]\n",
        "    for j in range(0 , n2):\n",
        "        R[j] = arr[m + 1 + j]\n",
        "\n",
        "    i = 0 # first half of array\n",
        "    j = 0 # second half of array\n",
        "    k = l # merges two halves\n",
        "\n",
        "    while i < n1 and j < n2:\n",
        "        if L[i] <= R[j]:\n",
        "            arr[k] = L[i]\n",
        "            i += 1\n",
        "        else:\n",
        "            arr[k] = R[j]\n",
        "            j += 1\n",
        "        k += 1\n",
        "\n",
        "    # copy the left out elements of left half\n",
        "    while i < n1:\n",
        "        arr[k] = L[i]\n",
        "        i += 1\n",
        "        k += 1\n",
        "\n",
        "    # copy the left out elements of right half\n",
        "    while j < n2:\n",
        "        arr[k] = R[j]\n",
        "        j += 1\n",
        "        k += 1\n",
        "\n",
        "def mergeSort(arr, l, r):\n",
        "    \"\"\"\n",
        "    Sorts an array using merge sort algorithm.\n",
        "    \"\"\"\n",
        "    if l < r:\n",
        "        # getting the average\n",
        "        m = (l + (r - 1)) // 2\n",
        "\n",
        "        # Sort\n",
        "        mergeSort(arr, l, m)\n",
        "        mergeSort(arr, m + 1, r)\n",
        "        merge(arr, l, m, r)\n",
        "\n",
        "# main\n",
        "arr = [5, 4, 6, 1, 2, 3, 7, 8, 9]\n",
        "n = len(arr)\n",
        "mergeSort(arr, 0, n - 1)\n",
        "print(\"Sorted array is:\")\n",
        "for i in range(n):\n",
        "    print(arr[i], end=\" \")"
      ]
    },
    {
      "cell_type": "markdown",
      "id": "f1c03eec",
      "metadata": {
        "id": "f1c03eec"
      },
      "source": [
        "# Graph Color"
      ]
    },
    {
      "cell_type": "code",
      "execution_count": null,
      "id": "495491ff",
      "metadata": {
        "id": "495491ff",
        "outputId": "521c0b05-13e0-44f6-d396-60eeb691cf19"
      },
      "outputs": [
        {
          "name": "stdout",
          "output_type": "stream",
          "text": [
            "[0, 1, 2, 0, 1, 2]\n"
          ]
        }
      ],
      "source": [
        "def color_nodes(graph: dict, colors: list, node: int) -> bool:\n",
        "    \"\"\"\n",
        "    Recursively assigns colors to nodes in a graph and returns True if successful,\n",
        "    otherwise returns False.\n",
        "\n",
        "    :param graph: A dictionary representing the graph, where the keys are the nodes and the values\n",
        "                  are lists of adjacent nodes.\n",
        "    :param colors: A list representing the colors assigned to each node in the graph.\n",
        "    :param node: An integer representing the node to be colored.\n",
        "    :return: A boolean representing whether or not a solution was found.\n",
        "    \"\"\"\n",
        "    if node == len(graph):\n",
        "        return True\n",
        "    for color in range(len(graph)):\n",
        "        if is_valid(graph, colors, node, color):\n",
        "            colors[node] = color\n",
        "            if color_nodes(graph, colors, node + 1):\n",
        "                return True\n",
        "            colors[node] = None\n",
        "    return False\n",
        "\n",
        "def is_valid(graph: dict, colors: list, node: int, color: int) -> bool:\n",
        "    \"\"\"\n",
        "    Returns True if a given color is a valid color for a node in the graph, otherwise returns False.\n",
        "\n",
        "    :param graph: A dictionary representing the graph, where the keys are the nodes and the values\n",
        "                  are lists of adjacent nodes.\n",
        "    :param colors: A list representing the colors assigned to each node in the graph.\n",
        "    :param node: An integer representing the node to be checked for validity.\n",
        "    :param color: An integer representing the color to be checked for validity.\n",
        "    :return: A boolean representing whether or not the color is valid for the node.\n",
        "    \"\"\"\n",
        "    for adj_node in graph[node]:\n",
        "        if colors[adj_node] == color:\n",
        "            return False\n",
        "    return True\n",
        "\n",
        "# Define the graph and initialize the colors list to None\n",
        "graph = {\n",
        "    0: [1, 2],\n",
        "    1: [0, 2, 3],\n",
        "    2: [0, 1, 3, 4],\n",
        "    3: [1, 2, 4, 5],\n",
        "    4: [2, 3, 5],\n",
        "    5: [3, 4]\n",
        "}\n",
        "colors = [None] * len(graph)\n",
        "\n",
        "# Call the color_nodes function and print the solution or \"No solution found.\"\n",
        "if color_nodes(graph, colors, 0):\n",
        "    print(colors)\n",
        "else:\n",
        "    print(\"No solution found.\")"
      ]
    },
    {
      "cell_type": "markdown",
      "id": "d04e2c43",
      "metadata": {
        "id": "d04e2c43"
      },
      "source": [
        "# Knap Sack"
      ]
    },
    {
      "cell_type": "code",
      "execution_count": null,
      "id": "1a54f91a",
      "metadata": {
        "id": "1a54f91a",
        "outputId": "6b45aaa9-751c-4990-d38d-dc3d47c251bb"
      },
      "outputs": [
        {
          "name": "stdout",
          "output_type": "stream",
          "text": [
            "220\n"
          ]
        }
      ],
      "source": [
        "from typing import List\n",
        "\n",
        "def knapSack(W: int, wt: List[int], profit: List[int], n: int) -> int:\n",
        "    \"\"\"\n",
        "    Solves the 0-1 Knapsack problem using dynamic programming.\n",
        "    :param W: maximum weight capacity of the knapsack\n",
        "    :param wt: list of weights of each item\n",
        "    :param profit: list of values of each item\n",
        "    :param n: number of items\n",
        "    :return: maximum value that can be obtained while keeping the total weight\n",
        "             of items within the maximum weight capacity W\n",
        "    \"\"\"\n",
        "    # base cases\n",
        "    if n == 0 or W == 0:\n",
        "        return 0\n",
        "\n",
        "    # if weight of current item is greater than knapsack capacity,\n",
        "    # then this item can't be included in the optimal solution\n",
        "    if wt[n - 1] > W:\n",
        "        return knapSack(W, wt, profit, n - 1)\n",
        "\n",
        "    # return the maximum of two cases:\n",
        "    # 1) nth item included\n",
        "    # 2) not included\n",
        "    else:\n",
        "        return max(\n",
        "            profit[n - 1] + knapSack(W - wt[n - 1], wt, profit, n - 1),\n",
        "            knapSack(W, wt, profit, n - 1)\n",
        "        )\n",
        "\n",
        "profit = [60, 100, 120]\n",
        "wt = [10, 20, 30]\n",
        "W = 50\n",
        "n = len(profit)\n",
        "\n",
        "print(knapSack(W, wt, profit, n))"
      ]
    },
    {
      "cell_type": "code",
      "execution_count": null,
      "id": "e77eaaf4",
      "metadata": {
        "id": "e77eaaf4",
        "outputId": "6f4d1bee-0360-4dc4-ccd1-3dad90f5e375"
      },
      "outputs": [
        {
          "name": "stdout",
          "output_type": "stream",
          "text": [
            "\n",
            "Enter the number of disks: 3\n",
            "Move disk 1 from source A to destination B\n",
            "Move disk 2 from source A to destination C\n",
            "Move disk 1 from source B to destination C\n",
            "Move disk 3 from source A to destination B\n",
            "Move disk 1 from source C to destination A\n",
            "Move disk 2 from source C to destination B\n",
            "Move disk 1 from source A to destination B\n"
          ]
        }
      ],
      "source": [
        "def TowerOfHanoi(n: int, source: str, destination: str, auxiliary: str) -> None:\n",
        "    \"\"\"\n",
        "    Solves the Tower of Hanoi problem recursively.\n",
        "    \n",
        "    Args:\n",
        "    - n: Number of disks.\n",
        "    - source: Source peg, where the disks are initially placed.\n",
        "    - destination: Destination peg, where we want to move all disks.\n",
        "    - auxiliary: Auxiliary peg.\n",
        "    \"\"\"\n",
        "    if n == 1:\n",
        "        print(f\"Move disk 1 from source {source} to destination {destination}\")\n",
        "        return\n",
        "    TowerOfHanoi(n - 1, source, auxiliary, destination)\n",
        "    print(f\"Move disk {n} from source {source} to destination {destination}\")\n",
        "    TowerOfHanoi(n - 1, auxiliary, destination, source)\n",
        "    \n",
        "n = int(input(\"\\nEnter the number of disks: \"))\n",
        "TowerOfHanoi(n, 'A', 'B', 'C')\n"
      ]
    },
    {
      "cell_type": "code",
      "execution_count": null,
      "id": "a8a96433",
      "metadata": {
        "id": "a8a96433"
      },
      "outputs": [],
      "source": []
    }
  ],
  "metadata": {
    "kernelspec": {
      "display_name": "Python 3 (ipykernel)",
      "language": "python",
      "name": "python3"
    },
    "language_info": {
      "codemirror_mode": {
        "name": "ipython",
        "version": 3
      },
      "file_extension": ".py",
      "mimetype": "text/x-python",
      "name": "python",
      "nbconvert_exporter": "python",
      "pygments_lexer": "ipython3",
      "version": "3.9.7"
    },
    "colab": {
      "provenance": [],
      "include_colab_link": true
    }
  },
  "nbformat": 4,
  "nbformat_minor": 5
}